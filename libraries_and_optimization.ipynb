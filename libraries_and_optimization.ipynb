{
 "cells": [
  {
   "cell_type": "markdown",
   "metadata": {},
   "source": [
    "## Python libraries\n",
    "\n",
    "- Well-developed code packages with defined classes/functions\n",
    "- Very useful in just about anything you do in python"
   ]
  },
  {
   "cell_type": "code",
   "execution_count": 1,
   "metadata": {},
   "outputs": [],
   "source": [
    "import numpy as np\n",
    "import matplotlib.pyplot as plt\n",
    "import pandas as pd\n",
    "import sklearn # <--- used to create machine learning models"
   ]
  },
  {
   "cell_type": "code",
   "execution_count": 2,
   "metadata": {},
   "outputs": [],
   "source": [
    "# # numpy: numerical python (used to create arrays and perform matrix operations)\n",
    "\n",
    "# A = np.array(\n",
    "#     [[1, 2],\n",
    "#      [3, 4]]\n",
    "# )\n",
    "\n",
    "# print(A)\n",
    "# print(A.shape)\n",
    "# print(A[0, 0])\n",
    "# print(A[0, 1])\n",
    "# print(10*A)\n",
    "# print(A.transpose())\n",
    "# print(A.T)\n",
    "\n",
    "# B = np.array(\n",
    "#     [[5, 6],\n",
    "#      [7, 8]]\n",
    "# )\n",
    "# print(A + B)\n",
    "# print(A - B)\n",
    "# print(A @ B) # matrix product\n",
    "\n",
    "\n",
    "# # Random number generation\n",
    "# x = np.random.random(5)\n",
    "# print(x)\n",
    "\n",
    "# # np.random.seed(0)\n",
    "# y = np.random.normal(0, 2, 5)\n",
    "# print(y)\n",
    "\n",
    "# z = np.random.uniform(0, 10)\n",
    "# print(z)"
   ]
  },
  {
   "cell_type": "code",
   "execution_count": 3,
   "metadata": {},
   "outputs": [],
   "source": [
    "# Exercise\n",
    "\n",
    "# 1. Define the vectors x = (1, 5) and y = (2, 2) using numpy arrays. Then, compute both their sum and their dot/inner product.\n",
    "# 2. Create the 5 by 5 identity matrix using numpy and then multiply the matrix by a coefficient sampled from the uniform distribution on the interval [0, 10]."
   ]
  },
  {
   "cell_type": "code",
   "execution_count": 4,
   "metadata": {},
   "outputs": [],
   "source": [
    "# matplotlib: provides plotting capabilities in python\n",
    "\n",
    "# 1. Scatterplot\n",
    "\n",
    "# # Generate random data for x and y\n",
    "# np.random.seed(0)  # For reproducibility\n",
    "# x = np.random.rand(50)\n",
    "# y = np.random.rand(50)\n",
    "\n",
    "# # Create a scatter plot\n",
    "# plt.scatter(x, y, color = 'blue', marker = 'o', edgecolor = 'black', s = 50, alpha = 0.7)\n",
    "\n",
    "# # Add labels and title\n",
    "# plt.xlabel('X-axis')\n",
    "# plt.ylabel('Y-axis')\n",
    "# plt.title('Sample Scatterplot')\n",
    "\n",
    "# # Show the plot\n",
    "# plt.show()\n",
    "\n",
    "\n",
    "# 2. Line plot\n",
    "\n",
    "# # Sample data\n",
    "# x = [0, 1, 2, 3, 4, 5]\n",
    "# y = [0, 1, 4, 9, 16, 25]\n",
    "\n",
    "# # Create the plot\n",
    "# plt.plot(x, y, label = 'y = x^2', color = 'b', marker = 'o')\n",
    "\n",
    "# # Add labels and title\n",
    "# plt.xlabel('X-axis')\n",
    "# plt.ylabel('Y-axis')\n",
    "# plt.title('Simple Line Plot')\n",
    "\n",
    "# # Display legend\n",
    "# plt.legend()\n",
    "\n",
    "# # Show the plot\n",
    "# plt.show()"
   ]
  },
  {
   "cell_type": "code",
   "execution_count": 9,
   "metadata": {},
   "outputs": [],
   "source": [
    "# Exercise: generate a vector where each component is sampled from the standard normal distribution. Then, plot a histogram of the components in the vector.\n",
    "\n",
    "# # Generate random data\n",
    "# data = np.random.randn(1000)\n",
    "\n",
    "# # Create the histogram\n",
    "# plt.hist(data, bins = 30, color = 'blue', edgecolor = 'black', alpha = 0.7)\n",
    "\n",
    "# # Add labels and title\n",
    "# plt.xlabel('Value')\n",
    "# plt.ylabel('Frequency')\n",
    "# plt.title('Histogram of Random Data')\n",
    "\n",
    "# # Show the plot\n",
    "# plt.show()"
   ]
  },
  {
   "cell_type": "code",
   "execution_count": 5,
   "metadata": {},
   "outputs": [],
   "source": [
    "# pandas: used for creating/utilizing/modifying dataframes\n",
    "\n",
    "# Load the Titanic dataset\n",
    "url = 'https://raw.githubusercontent.com/mwaskom/seaborn-data/master/titanic.csv'\n",
    "titanic_data = pd.read_csv(url)"
   ]
  },
  {
   "cell_type": "code",
   "execution_count": 6,
   "metadata": {},
   "outputs": [],
   "source": [
    "# titanic_data"
   ]
  },
  {
   "cell_type": "code",
   "execution_count": 7,
   "metadata": {},
   "outputs": [],
   "source": [
    "# titanic_data.dtypes\n",
    "# titanic_data.describe()\n",
    "\n",
    "# titanic_data.iloc[0]\n",
    "# titanic_data[0:3]\n",
    "# titanic_data['age']\n",
    "# titanic_data[['age', 'survived']]\n",
    "# titanic_data['age'] # .values\n",
    "# titanic_data[titanic_data['age'] >= 50]\n",
    "# titanic_data[titanic_data['class'] == 'Second']\n"
   ]
  },
  {
   "cell_type": "code",
   "execution_count": 8,
   "metadata": {},
   "outputs": [],
   "source": [
    "# Questions\n",
    "\n",
    "# 1. How many people survived?\n",
    "# 2. How many people are in each class?\n",
    "# 3. What percentage of people survived from each class?\n",
    "# 4. How old was the youngest person? the oldest?\n",
    "# 5. What was the average fare?"
   ]
  },
  {
   "cell_type": "markdown",
   "metadata": {},
   "source": [
    "## Writing and solving optimization problems"
   ]
  }
 ],
 "metadata": {
  "kernelspec": {
   "display_name": "Python 3",
   "language": "python",
   "name": "python3"
  },
  "language_info": {
   "codemirror_mode": {
    "name": "ipython",
    "version": 3
   },
   "file_extension": ".py",
   "mimetype": "text/x-python",
   "name": "python",
   "nbconvert_exporter": "python",
   "pygments_lexer": "ipython3",
   "version": "3.11.9"
  }
 },
 "nbformat": 4,
 "nbformat_minor": 2
}
