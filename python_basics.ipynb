{
 "cells": [
  {
   "cell_type": "markdown",
   "metadata": {},
   "source": [
    "# Python Workshop #1: The Basics"
   ]
  },
  {
   "cell_type": "markdown",
   "metadata": {},
   "source": [
    "## Introduction"
   ]
  },
  {
   "cell_type": "markdown",
   "metadata": {},
   "source": [
    "#### History\n",
    "\n",
    "- Created by Guido van Rossum and first appeared in February of 1991 (v0.9.0)\n",
    "- v3.13.0 was just released on October 7th, 2024"
   ]
  },
  {
   "cell_type": "markdown",
   "metadata": {},
   "source": [
    "#### Why Python?\n",
    "\n",
    "- Open-source\n",
    "- Easy to write/read python code\n",
    "- Large amounts of libraries\n",
    "- Heavily used in data science teams in industry"
   ]
  },
  {
   "cell_type": "markdown",
   "metadata": {},
   "source": [
    "#### Getting started"
   ]
  },
  {
   "cell_type": "code",
   "execution_count": null,
   "metadata": {},
   "outputs": [],
   "source": [
    "print('Hello world!')"
   ]
  },
  {
   "cell_type": "code",
   "execution_count": null,
   "metadata": {},
   "outputs": [],
   "source": [
    "# This is how you comment in python"
   ]
  },
  {
   "cell_type": "code",
   "execution_count": null,
   "metadata": {},
   "outputs": [],
   "source": [
    "my_var = 1\n",
    "print(my_var)"
   ]
  },
  {
   "cell_type": "markdown",
   "metadata": {},
   "source": [
    "## Data Types"
   ]
  },
  {
   "cell_type": "markdown",
   "metadata": {},
   "source": [
    "### Strings"
   ]
  },
  {
   "cell_type": "code",
   "execution_count": null,
   "metadata": {},
   "outputs": [],
   "source": [
    "# Basics\n",
    "\n",
    "print('John')\n",
    "print(\"John\")"
   ]
  },
  {
   "cell_type": "code",
   "execution_count": null,
   "metadata": {},
   "outputs": [],
   "source": [
    "# Basics\n",
    "\n",
    "name = 'John'\n",
    "print(name)\n",
    "print('My name is', name)"
   ]
  },
  {
   "cell_type": "code",
   "execution_count": null,
   "metadata": {},
   "outputs": [],
   "source": [
    "# Basics\n",
    "\n",
    "print(len(name)) # 'len' is a built-in python function that returns the length of the object being queried; for a full list of built-in python functions, refer to https://docs.python.org/3/library/functions.html\n",
    "print(name[0]) # python indexing starts at 0\n",
    "print(name[0 : 2]) # this is known as 'slicing' and returns the elements in the given range"
   ]
  },
  {
   "cell_type": "code",
   "execution_count": null,
   "metadata": {},
   "outputs": [],
   "source": [
    "# String 'addition'\n",
    "\n",
    "first_name = 'John'\n",
    "last_name = 'Doe'\n",
    "print('My name is', first_name + last_name)\n",
    "print('My name is', first_name + ' ' +  last_name)"
   ]
  },
  {
   "cell_type": "code",
   "execution_count": null,
   "metadata": {},
   "outputs": [],
   "source": [
    "# Multi-line string\n",
    "\n",
    "story = '''\n",
    "I walked to the park with\n",
    "my dog. It was a sunny day\n",
    "and I really enjoyed it.\n",
    "'''\n",
    "\n",
    "print(story)"
   ]
  },
  {
   "cell_type": "code",
   "execution_count": null,
   "metadata": {},
   "outputs": [],
   "source": [
    "# Escape character\n",
    "\n",
    "restaurant = 'Cane\\'s'\n",
    "print(restaurant)"
   ]
  },
  {
   "cell_type": "code",
   "execution_count": null,
   "metadata": {},
   "outputs": [],
   "source": [
    "# Exercise: \n",
    "# 1. Find out how many characters (letters, spaces, punctuation) are in the story two cells above.\n",
    "# 2. Use python slicing to return the second word of the story."
   ]
  },
  {
   "cell_type": "markdown",
   "metadata": {},
   "source": [
    "### Numbers"
   ]
  },
  {
   "cell_type": "code",
   "execution_count": null,
   "metadata": {},
   "outputs": [],
   "source": [
    "# ints\n",
    "\n",
    "x = 3\n",
    "y = 2\n",
    "\n",
    "print(type(x)) # 'type' is another built-in python function"
   ]
  },
  {
   "cell_type": "code",
   "execution_count": null,
   "metadata": {},
   "outputs": [],
   "source": [
    "# ints\n",
    "\n",
    "print(x + y)\n",
    "print(x - y)\n",
    "print(x * y)\n",
    "print(x / y)\n",
    "print(3 % 2) # reciprocal when dividing, i.e., 'mod'"
   ]
  },
  {
   "cell_type": "code",
   "execution_count": null,
   "metadata": {},
   "outputs": [],
   "source": [
    "# floats\n",
    "\n",
    "x = 1.5\n",
    "y = 2.5\n",
    "print(type(x))"
   ]
  },
  {
   "cell_type": "code",
   "execution_count": null,
   "metadata": {},
   "outputs": [],
   "source": [
    "# floats\n",
    "\n",
    "print(x + y)\n",
    "print(int(1.5)) # this is known as 'type-casting'\n",
    "print(type(int(1.5)))"
   ]
  },
  {
   "cell_type": "code",
   "execution_count": null,
   "metadata": {},
   "outputs": [],
   "source": [
    "# Exercise:\n",
    "# 1. Print out 3 raised to the power of 5."
   ]
  },
  {
   "cell_type": "markdown",
   "metadata": {},
   "source": [
    "### Booleans"
   ]
  },
  {
   "cell_type": "code",
   "execution_count": null,
   "metadata": {},
   "outputs": [],
   "source": [
    "a = True\n",
    "print(type(a))\n",
    "print(1 == 1) # check for equality\n",
    "print(1 == 2)"
   ]
  },
  {
   "cell_type": "markdown",
   "metadata": {},
   "source": [
    "## Data Structures"
   ]
  },
  {
   "cell_type": "markdown",
   "metadata": {},
   "source": [
    "### Lists"
   ]
  },
  {
   "cell_type": "code",
   "execution_count": null,
   "metadata": {},
   "outputs": [],
   "source": [
    "# List of strings\n",
    "\n",
    "cars = ['ford', 'volkswagen', 'tesla', 'honda', 'gmc']"
   ]
  },
  {
   "cell_type": "code",
   "execution_count": null,
   "metadata": {},
   "outputs": [],
   "source": [
    "# Ordered\n",
    "\n",
    "print('The first car in the list is', cars[0] + '.')"
   ]
  },
  {
   "cell_type": "code",
   "execution_count": null,
   "metadata": {},
   "outputs": [],
   "source": [
    "# Mutable\n",
    "\n",
    "cars.append('toyota')\n",
    "print('cars = ', cars)"
   ]
  },
  {
   "cell_type": "code",
   "execution_count": null,
   "metadata": {},
   "outputs": [],
   "source": [
    "# Allow duplicates\n",
    "\n",
    "cars.append('gmc')\n",
    "print('cars = ', cars)"
   ]
  },
  {
   "cell_type": "code",
   "execution_count": null,
   "metadata": {},
   "outputs": [],
   "source": [
    "# Exercise\n",
    "# 1. Use the built-in 'len' function to print out the number of cars in car list.\n",
    "# 2. Use slicing to print the second and third cars.\n",
    "# 3. Append jeep and dodge to the list of cars.\n",
    "# 4. Sort the list of cars in alphabetical order and print the fourth car in the list."
   ]
  },
  {
   "cell_type": "code",
   "execution_count": null,
   "metadata": {},
   "outputs": [],
   "source": [
    "# List of numbers\n",
    "\n",
    "numbers = [2, 1, 3, 4]\n",
    "print('numbers = ', numbers)"
   ]
  },
  {
   "cell_type": "code",
   "execution_count": null,
   "metadata": {},
   "outputs": [],
   "source": [
    "# Numerical functions\n",
    "\n",
    "sum_of_numbers = sum(numbers)\n",
    "print(sum_of_numbers)\n",
    "\n",
    "min_number = min(numbers)\n",
    "print(min_number)\n",
    "\n",
    "max_number = max(numbers)\n",
    "print(max_number)"
   ]
  },
  {
   "cell_type": "code",
   "execution_count": null,
   "metadata": {},
   "outputs": [],
   "source": [
    "# List of mixed type\n",
    "\n",
    "mixed_list = ['dog', 2, False]"
   ]
  },
  {
   "cell_type": "markdown",
   "metadata": {},
   "source": [
    "### Tuples"
   ]
  },
  {
   "cell_type": "code",
   "execution_count": null,
   "metadata": {},
   "outputs": [],
   "source": [
    "point = (3, 3)"
   ]
  },
  {
   "cell_type": "code",
   "execution_count": null,
   "metadata": {},
   "outputs": [],
   "source": [
    "# Ordered\n",
    "\n",
    "print(point[0])\n",
    "print(point[1])"
   ]
  },
  {
   "cell_type": "code",
   "execution_count": null,
   "metadata": {},
   "outputs": [],
   "source": [
    "# Immutable\n",
    "\n",
    "point[0] = 5"
   ]
  },
  {
   "cell_type": "code",
   "execution_count": null,
   "metadata": {},
   "outputs": [],
   "source": [
    "# Exercise\n",
    "# 1. Consider the tuples x = (1, 2) and y = (1, 5). Create a new tuple z where the first component is the sum of the first components of x and y, and likewise for the second component."
   ]
  },
  {
   "cell_type": "markdown",
   "metadata": {},
   "source": [
    "### Sets"
   ]
  },
  {
   "cell_type": "code",
   "execution_count": null,
   "metadata": {},
   "outputs": [],
   "source": [
    "squares = {1, 4, 9, 16}"
   ]
  },
  {
   "cell_type": "code",
   "execution_count": null,
   "metadata": {},
   "outputs": [],
   "source": [
    "# Unordered\n",
    "\n",
    "print(squares)"
   ]
  },
  {
   "cell_type": "code",
   "execution_count": null,
   "metadata": {},
   "outputs": [],
   "source": [
    "# Immutable\n",
    "\n",
    "squares[4] = 25"
   ]
  },
  {
   "cell_type": "code",
   "execution_count": null,
   "metadata": {},
   "outputs": [],
   "source": [
    "# Unindexed\n",
    "\n",
    "print(squares[0])"
   ]
  },
  {
   "cell_type": "code",
   "execution_count": null,
   "metadata": {},
   "outputs": [],
   "source": [
    "# Does not allow duplicate members\n",
    "\n",
    "squares_modified = {1, 4, 4, 9, 16}\n",
    "print(squares_modified)"
   ]
  },
  {
   "cell_type": "markdown",
   "metadata": {},
   "source": [
    "### Dictionaries"
   ]
  },
  {
   "cell_type": "code",
   "execution_count": null,
   "metadata": {},
   "outputs": [],
   "source": [
    "animals = {'dog' : 'domesticated mammal', 'cat' : 'unfriendly domesticated mammal', 'dolphin' : 'intelligent sea creature'}"
   ]
  },
  {
   "cell_type": "code",
   "execution_count": null,
   "metadata": {},
   "outputs": [],
   "source": [
    "# Ordered\n",
    "\n",
    "print(animals)\n",
    "\n",
    "print(animals.keys())\n",
    "print(animals.values())\n",
    "print(animals['dolphin'])"
   ]
  },
  {
   "cell_type": "code",
   "execution_count": null,
   "metadata": {},
   "outputs": [],
   "source": [
    "# Mutable\n",
    "\n",
    "animals['spiders'] = 'scary arachnids'\n",
    "print(animals)"
   ]
  },
  {
   "cell_type": "code",
   "execution_count": null,
   "metadata": {},
   "outputs": [],
   "source": [
    "# No duplicate members\n",
    "\n",
    "animals['spiders'] = 'scary arachnids with a lot of legs'\n",
    "print(animals)"
   ]
  },
  {
   "cell_type": "code",
   "execution_count": null,
   "metadata": {},
   "outputs": [],
   "source": [
    "# Exercise\n",
    "# 1. Create a dictionary which contains the names and ages of the following people:\n",
    "# John, age 35\n",
    "# Maria, age 40\n",
    "# Sandra, age 25\n",
    "# Donovan, age 55"
   ]
  },
  {
   "cell_type": "markdown",
   "metadata": {},
   "source": [
    "## If-Else Statements and Loops"
   ]
  },
  {
   "cell_type": "markdown",
   "metadata": {},
   "source": [
    "### If-Else Statements"
   ]
  },
  {
   "cell_type": "code",
   "execution_count": null,
   "metadata": {},
   "outputs": [],
   "source": [
    "# If-Else\n",
    "\n",
    "a = 10\n",
    "b = 7\n",
    "if a <  b:\n",
    "    print('a is less than b')\n",
    "else:\n",
    "    print('a is greater than or equal to b')"
   ]
  },
  {
   "cell_type": "code",
   "execution_count": null,
   "metadata": {},
   "outputs": [],
   "source": [
    "# If-Elif-Else\n",
    "\n",
    "a = 10\n",
    "b = 7\n",
    "if a < b:\n",
    "    print('a is less than b')\n",
    "elif a > b:\n",
    "    print('a is greater than b')\n",
    "else:\n",
    "    print('a is equal to b')"
   ]
  },
  {
   "cell_type": "code",
   "execution_count": null,
   "metadata": {},
   "outputs": [],
   "source": [
    "# Checking if an element is in a list\n",
    "\n",
    "favorite_restaurants = ['Cane\\'s', 'Panda Express', 'Chick-fil-a']\n",
    "restaurant_1 = 'Taco Bell'\n",
    "if restaurant_1 in favorite_restaurants:\n",
    "    print(f'{restaurant_1} is one of my favorite restaurants.') # this is known as an f-string, aka a format string\n",
    "else:\n",
    "    print(f'{restaurant_1} is not one of my favorite restaurants.')"
   ]
  },
  {
   "cell_type": "code",
   "execution_count": null,
   "metadata": {},
   "outputs": [],
   "source": [
    "# Checking a condition with an 'and'\n",
    "\n",
    "person = {'age' : 8, 'height' : 50}\n",
    "if person['age'] >= 7 and person['height'] >= 48:\n",
    "    print('They can ride the rollercoaster.')\n",
    "else:\n",
    "    print('They cannot ride the rollercoaster.')"
   ]
  },
  {
   "cell_type": "markdown",
   "metadata": {},
   "source": [
    "### While loops"
   ]
  },
  {
   "cell_type": "code",
   "execution_count": null,
   "metadata": {},
   "outputs": [],
   "source": [
    "# Basics\n",
    "\n",
    "x = 0\n",
    "\n",
    "while x <= 5:\n",
    "    print('x = ', x)\n",
    "    x += 1\n",
    "\n",
    "print('Out of the loop')"
   ]
  },
  {
   "cell_type": "code",
   "execution_count": null,
   "metadata": {},
   "outputs": [],
   "source": [
    "# Break\n",
    "\n",
    "x = 1\n",
    "while x <= 10:\n",
    "    if x % 4 == 0:\n",
    "        print('Encountered a multiple of 4, breaking out of the loop')\n",
    "        break\n",
    "    print('x = ', x)\n",
    "    x += 1\n",
    "print('Out of the loop')\n"
   ]
  },
  {
   "cell_type": "code",
   "execution_count": null,
   "metadata": {},
   "outputs": [],
   "source": [
    "# Continue\n",
    "\n",
    "x = 1\n",
    "while x <= 10:\n",
    "    if x % 4 == 0:\n",
    "        x += 1\n",
    "        continue\n",
    "    print(x)\n",
    "    x += 1"
   ]
  },
  {
   "cell_type": "markdown",
   "metadata": {},
   "source": [
    "### For loops"
   ]
  },
  {
   "cell_type": "code",
   "execution_count": null,
   "metadata": {},
   "outputs": [],
   "source": [
    "# Basics\n",
    "\n",
    "numbers_list = [1, 2, 3, 4, 5]\n",
    "\n",
    "for number in numbers_list:\n",
    "    print(number)"
   ]
  },
  {
   "cell_type": "code",
   "execution_count": null,
   "metadata": {},
   "outputs": [],
   "source": [
    "# Range\n",
    "\n",
    "for i in range(5):\n",
    "    print(i)"
   ]
  },
  {
   "cell_type": "code",
   "execution_count": null,
   "metadata": {},
   "outputs": [],
   "source": [
    "# Range\n",
    "\n",
    "for i in range(3, 10):\n",
    "    print(i)"
   ]
  },
  {
   "cell_type": "code",
   "execution_count": null,
   "metadata": {},
   "outputs": [],
   "source": [
    "# Range\n",
    "\n",
    "for i in range(2, 10, 3):\n",
    "    print(i)"
   ]
  },
  {
   "cell_type": "code",
   "execution_count": null,
   "metadata": {},
   "outputs": [],
   "source": [
    "# Multiple for loops\n",
    "\n",
    "for x in [1, 2, 3]:\n",
    "    for y in [4, 5, 6]:\n",
    "        print((x, y))"
   ]
  },
  {
   "cell_type": "code",
   "execution_count": null,
   "metadata": {},
   "outputs": [],
   "source": [
    "# Exercise: print the numbers 1 through 100, with the following exceptions:\n",
    "# print the word 'fizz' instead of numbers that are divisible by 3,\n",
    "# print the word 'buzz' instead of numbers that are divisible by 5,\n",
    "# and print the word 'fizzbuzz' instead of numbers that are divisible by 15.\n",
    "# Note: your code must use the word 'and' in it somewhere."
   ]
  },
  {
   "cell_type": "markdown",
   "metadata": {},
   "source": [
    "#### Comprehension"
   ]
  },
  {
   "cell_type": "code",
   "execution_count": null,
   "metadata": {},
   "outputs": [],
   "source": [
    "# List comprehension\n",
    "\n",
    "numbers = []\n",
    "for i in range(10):\n",
    "    numbers.append(i)\n",
    "print(numbers)\n",
    "\n",
    "numbers_new = [i for i in range(10)]\n",
    "print(numbers_new)"
   ]
  },
  {
   "cell_type": "code",
   "execution_count": null,
   "metadata": {},
   "outputs": [],
   "source": [
    "# List comprehension with a condition\n",
    "\n",
    "even_numbers = [i for i in range(10) if i % 2 == 0]\n",
    "print(even_numbers)"
   ]
  },
  {
   "cell_type": "code",
   "execution_count": null,
   "metadata": {},
   "outputs": [],
   "source": [
    "# Exercise\n",
    "# 1. Consider the list fruits = ['apple', 'cherry', 'banana', 'kiwi'].\n",
    "# Use list comprehension to create a new list of the fruits in this list that contain the letter 'a'."
   ]
  },
  {
   "cell_type": "code",
   "execution_count": null,
   "metadata": {},
   "outputs": [],
   "source": [
    "# Dictionary comprehension\n",
    "\n",
    "cubes = {n : n ** 3 for n in range(10)}\n",
    "print(cubes)\n",
    "print(cubes[5])"
   ]
  },
  {
   "cell_type": "markdown",
   "metadata": {},
   "source": [
    "## Functions"
   ]
  },
  {
   "cell_type": "code",
   "execution_count": null,
   "metadata": {},
   "outputs": [],
   "source": [
    "# Basics\n",
    "\n",
    "def hello_world():\n",
    "    print('hello world')\n",
    "\n",
    "hello_world()"
   ]
  },
  {
   "cell_type": "code",
   "execution_count": null,
   "metadata": {},
   "outputs": [],
   "source": [
    "# Arguments\n",
    "\n",
    "def square(x):\n",
    "    print(x ** 2)\n",
    "\n",
    "square(1)\n",
    "square(2)"
   ]
  },
  {
   "cell_type": "code",
   "execution_count": null,
   "metadata": {},
   "outputs": [],
   "source": [
    "# Return statement\n",
    "\n",
    "def square(x):\n",
    "    return x ** 2\n",
    "\n",
    "a = square(1)\n",
    "print(a)\n",
    "\n",
    "b = square(2)\n",
    "print(b)"
   ]
  },
  {
   "cell_type": "code",
   "execution_count": null,
   "metadata": {},
   "outputs": [],
   "source": [
    "for n in range(10):\n",
    "    print(f'The square of {n} is {square(n)}.')"
   ]
  },
  {
   "cell_type": "code",
   "execution_count": null,
   "metadata": {},
   "outputs": [],
   "source": [
    "# Exercise: \n",
    "# Write a python function that takes in the arguments x and y, which are each tuples, and returns their dot product.\n",
    "# Test the function by taking the dot product of the following pairs of vectors \n",
    "# (i) a = (1, -11, 24) and b = (23, 4, -5). \n",
    "# (ii) x = (2, 17) and y = (41, 25). "
   ]
  }
 ],
 "metadata": {
  "kernelspec": {
   "display_name": "Python 3",
   "language": "python",
   "name": "python3"
  },
  "language_info": {
   "codemirror_mode": {
    "name": "ipython",
    "version": 3
   },
   "file_extension": ".py",
   "mimetype": "text/x-python",
   "name": "python",
   "nbconvert_exporter": "python",
   "pygments_lexer": "ipython3",
   "version": "3.11.9"
  }
 },
 "nbformat": 4,
 "nbformat_minor": 2
}
