{
 "cells": [
  {
   "cell_type": "markdown",
   "metadata": {},
   "source": [
    "# Python Workshop #1: The Basics"
   ]
  },
  {
   "cell_type": "markdown",
   "metadata": {},
   "source": [
    "## Introduction"
   ]
  },
  {
   "cell_type": "markdown",
   "metadata": {},
   "source": [
    "#### History\n",
    "\n",
    "- Created by Guido van Rossum and first appeared in February of 1991 (v0.9.0)\n",
    "- v3.13.0 was just released on October 7th, 2024"
   ]
  },
  {
   "cell_type": "markdown",
   "metadata": {},
   "source": [
    "#### Why Python?\n",
    "\n",
    "- Easy to write/read python code\n",
    "- Open-source\n",
    "- Large amounts of libraries\n",
    "- Heavily used in data science teams in industry"
   ]
  },
  {
   "cell_type": "markdown",
   "metadata": {},
   "source": [
    "#### Getting started"
   ]
  },
  {
   "cell_type": "code",
   "execution_count": 102,
   "metadata": {},
   "outputs": [],
   "source": [
    "# print('Hello world!')"
   ]
  },
  {
   "cell_type": "code",
   "execution_count": 99,
   "metadata": {},
   "outputs": [],
   "source": [
    "# print('print this line')\n",
    "# # print('do not print this line')"
   ]
  },
  {
   "cell_type": "code",
   "execution_count": 98,
   "metadata": {},
   "outputs": [],
   "source": [
    "# my_var = 1\n",
    "# print(my_var)"
   ]
  },
  {
   "cell_type": "markdown",
   "metadata": {},
   "source": [
    "## Data types/structures"
   ]
  },
  {
   "cell_type": "code",
   "execution_count": 97,
   "metadata": {},
   "outputs": [],
   "source": [
    "# # Strings\n",
    "\n",
    "# name = 'John'\n",
    "# print(name)\n",
    "# print('My name is', name)\n",
    "# print(f'My name is {name}') # f-string (do both versions)\n",
    "\n",
    "# first_name = 'John'\n",
    "# last_name = 'Doe'\n",
    "# print('My name is', first_name + last_name)\n",
    "# print('My name is', first_name + ' ' + last_name)\n",
    "\n",
    "# story = '''\n",
    "# I walked to the park with\n",
    "# my dog. It was a sunny day\n",
    "# and I really enjoyed it.\n",
    "# '''\n",
    "\n",
    "# print(story)\n",
    "\n",
    "# restaurant = 'McDonald\\'s'\n",
    "\n",
    "# print(restaurant)\n",
    "# print(restaurant[0]) # python indexing starts at 0\n",
    "# print(len(restaurant)) # len is another built-in python function"
   ]
  },
  {
   "cell_type": "code",
   "execution_count": null,
   "metadata": {},
   "outputs": [],
   "source": [
    "# # Numbers\n",
    "\n",
    "# # ints\n",
    "# x = 3\n",
    "# y = 2\n",
    "\n",
    "# print(type(x))\n",
    "# print(x + y)\n",
    "# print(x - y)\n",
    "# print(x * y)\n",
    "# print(x / y)\n",
    "# print(x ** y)\n",
    "# print(3 % 2)\n",
    "\n",
    "\n",
    "# # floats\n",
    "# x = 1.5\n",
    "# y = 2.5\n",
    "# print(type(x))\n",
    "# print(x**y)\n",
    "# print(int(1.5)) # casting\n",
    "\n",
    "# Note: 'type' is a built-in python function. For a full list of built-in python functions, refer to https://docs.python.org/3/library/functions.html"
   ]
  },
  {
   "cell_type": "code",
   "execution_count": 95,
   "metadata": {},
   "outputs": [],
   "source": [
    "# # Booleans\n",
    "\n",
    "# a = True\n",
    "# b = False\n",
    "# x = 1\n",
    "# y = 2\n",
    "# print(x == y)"
   ]
  },
  {
   "cell_type": "code",
   "execution_count": 94,
   "metadata": {},
   "outputs": [],
   "source": [
    "# # Lists (list items are ordered, changeable, and allow duplicates)\n",
    "\n",
    "# cars = ['ford', 'volkswagen', 'tesla', 'honda', 'gmc']\n",
    "# numbers = [2, 1, 3, 4]\n",
    "\n",
    "# print('cars = ', cars)\n",
    "# print(f'There are {len(cars)} cars in my car list.')\n",
    "# print(cars[2:4])\n",
    "\n",
    "# print('numbers = ', numbers)\n",
    "\n",
    "# cars.append('toyota')\n",
    "\n",
    "# print('cars = ', cars)\n",
    "# print(cars[0])\n",
    "\n",
    "# sum_of_numbers = sum(numbers)\n",
    "# min_number = min(numbers)\n",
    "# max_number = max(numbers)\n",
    "# print(sum_of_numbers)\n",
    "# print(min_number)\n",
    "# print(max_number)\n",
    "\n",
    "# sorted_numbers = sorted(numbers)\n",
    "# print(sorted_numbers)\n",
    "\n",
    "# sorted_numbers.pop(0)\n",
    "# print(sorted_numbers)\n",
    "\n",
    "# mixed_list = ['dog', 2, False]"
   ]
  },
  {
   "cell_type": "code",
   "execution_count": null,
   "metadata": {},
   "outputs": [
    {
     "data": {
      "text/plain": [
       "['ford', 'gmc', 'honda', 'tesla', 'toyota', 'volkswagen']"
      ]
     },
     "execution_count": 56,
     "metadata": {},
     "output_type": "execute_result"
    }
   ],
   "source": [
    "# Exercise\n",
    "\n",
    "# 1. Append jeep and dodge to the list of cars\n",
    "# 2. Print the number of cars in the new list using the 'len' function\n",
    "# 3. Sort the list of cars in alphabetical order and print the fourth car in the list"
   ]
  },
  {
   "cell_type": "code",
   "execution_count": 93,
   "metadata": {},
   "outputs": [],
   "source": [
    "# # Tuples (ordered and unchangeable; allows duplicate members)\n",
    "\n",
    "# two_dim_coordinate = (1, 3)\n",
    "# print(two_dim_coordinate)\n",
    "\n",
    "# three_dim_coordinate = (2, 2, 5)\n",
    "# print(three_dim_coordinate)\n",
    "# print(three_dim_coordinate[0])\n",
    "# print(len(three_dim_coordinate))\n",
    "\n",
    "# three_dim_coordinate.append(0)"
   ]
  },
  {
   "cell_type": "code",
   "execution_count": null,
   "metadata": {},
   "outputs": [],
   "source": [
    "# Exercise\n",
    "\n",
    "# 1. Consider the tuples x = (1, 2) and y = (1, 5). Create a new tuple z where the first component is the sum of the first components of x and y,\n",
    "# and likewise for the second component."
   ]
  },
  {
   "cell_type": "code",
   "execution_count": 92,
   "metadata": {},
   "outputs": [],
   "source": [
    "# # Sets: unordered, unchangeable, and unindexed; does not allow duplicate members \n",
    "\n",
    "# squares = {1, 4, 9, 16}\n",
    "# print(squares)\n",
    "\n",
    "# squares = {1, 4, 4, 9, 16}\n",
    "# print(squares)"
   ]
  },
  {
   "cell_type": "code",
   "execution_count": 91,
   "metadata": {},
   "outputs": [],
   "source": [
    "# # Dictionaries: ordered and changeable; no duplicate members; unique keys (think of a real dictionary)\n",
    "\n",
    "# age = {'John' : 30, 'Maria' : 40, 'Jose' : 35, 'Sandra' : 25}\n",
    "# print(age)\n",
    "# print(age.keys())\n",
    "# print(age.values())\n",
    "# print(age['John'])\n",
    "\n",
    "# age['Donovan'] = 55\n",
    "# print(age)\n",
    "\n",
    "# fibonacci_numbers = {1 : 1, 2 : 1, 3 : 2, 4 : 3, 5 : 5, 6 : 8}"
   ]
  },
  {
   "cell_type": "markdown",
   "metadata": {},
   "source": [
    "## If-else statements, loops, and list/dictionary comprehension"
   ]
  },
  {
   "cell_type": "code",
   "execution_count": 90,
   "metadata": {},
   "outputs": [],
   "source": [
    "# a = 10\n",
    "# b = 7\n",
    "# if a < b:\n",
    "#     print('a is less than b')\n",
    "# elif a > b:\n",
    "#     print('a is greater than b')\n",
    "# else:\n",
    "#     print('a is equal to b')\n",
    "\n",
    "# a = 10\n",
    "# b = 7\n",
    "# if a <  b:\n",
    "#     print('a is less than b')\n",
    "# else:\n",
    "#     print('a is greater than or equal to b')\n",
    "\n",
    "# favorite_restaurants = ['canes', 'panda express', 'chick fil a']\n",
    "# restaurant_1 = 'taco bell'\n",
    "# if restaurant_1 in favorite_restaurants:\n",
    "#     print(f'{restaurant_1} is one of my favorite restaurants')\n",
    "# else:\n",
    "#     print(f'{restaurant_1} is not one of my favorite restaurants')\n",
    "\n",
    "# bad_restaurants = ['mcdonalds', 'sonic']\n",
    "# if restaurant_1 not in bad_restaurants:\n",
    "#     print(f'{restaurant_1} is not a bad restaurant')\n",
    "# else:\n",
    "#     print(f'{restaurant_1} is a bad restaurant')\n",
    "\n",
    "# person = {'age' : 8, 'height' : 50}\n",
    "# if person['age'] >= 7 and person['height'] >= 48:\n",
    "#     print('They can ride the rollercoaster')\n",
    "# else:\n",
    "#     print('They cannot ride the rollercoaster')"
   ]
  },
  {
   "cell_type": "code",
   "execution_count": null,
   "metadata": {},
   "outputs": [],
   "source": [
    "# FizzBuzz exercise (if this does not contain 'or', then do something in addition that does contain an 'or')"
   ]
  },
  {
   "cell_type": "code",
   "execution_count": 89,
   "metadata": {},
   "outputs": [],
   "source": [
    "# # While loops\n",
    "\n",
    "# x = 0\n",
    "\n",
    "# while x <= 5:\n",
    "#     print('x = ', x)\n",
    "#     x += 1\n",
    "\n",
    "# print('out of the loop')\n",
    "\n",
    "# x = 4\n",
    "# while x <= 10:\n",
    "#     if x % 3 == 0:\n",
    "#         print('encountered a multiple of 3, breaking out of the loop')\n",
    "#         break\n",
    "#     print('x = ', x)\n",
    "#     x += 1\n",
    "# print('out of the loop')\n",
    "\n",
    "\n",
    "# # Work on the below\n",
    "# # x = 4\n",
    "# # while x <= 10:\n",
    "# #     if x % 3 == 0:\n",
    "# #         print('encountered a multiple of 3, continuing to the next iteration')\n",
    "# #         continue\n",
    "# #     print('x = ', x)\n",
    "# #     x += 1\n",
    "# # print('out of the loop')\n"
   ]
  },
  {
   "cell_type": "code",
   "execution_count": 88,
   "metadata": {},
   "outputs": [],
   "source": [
    "# # For loops\n",
    "\n",
    "# numbers_list = [1, 2, 3, 4, 5]\n",
    "\n",
    "# for number in numbers_list:\n",
    "#     print(number)\n",
    "\n",
    "# # range\n",
    "# for i in range(5):\n",
    "#     print(i)\n",
    "# for i in range(2, 10):\n",
    "#     print(i)\n",
    "# for i in range(2, 10, 3):\n",
    "#     print(i)\n",
    "\n",
    "\n",
    "# for x in [1, 2, 3]:\n",
    "#     for y in [4, 5, 6]:\n",
    "#         print((x, y))\n",
    "\n",
    "# # pass, continue, break"
   ]
  },
  {
   "cell_type": "code",
   "execution_count": null,
   "metadata": {},
   "outputs": [],
   "source": [
    "# Exercise: write a for loop in python that prints the even number between 1 and 100"
   ]
  },
  {
   "cell_type": "code",
   "execution_count": 87,
   "metadata": {},
   "outputs": [],
   "source": [
    "# # list and dictionary comprehension\n",
    "\n",
    "# numbers = []\n",
    "# for i in range(10):\n",
    "#     numbers.append(i)\n",
    "# print(numbers)\n",
    "# numbers = [i for i in range(10)]\n",
    "# print(numbers)\n",
    "# even_numbers = [i for i in range(10) if i % 2 == 0]\n",
    "# print(even_numbers)\n",
    "\n",
    "# square = {n : n ** 2 for n in range(10)}\n",
    "# print(square)\n",
    "# print(square[5])"
   ]
  },
  {
   "cell_type": "code",
   "execution_count": null,
   "metadata": {},
   "outputs": [],
   "source": [
    "# Exercise\n",
    "\n",
    "# 1. Consider the list fruits = ['apple', 'banana', 'cherry', 'kiwi']. Use list comprehension to create a new list of the fruits that contain the letter 'a'."
   ]
  },
  {
   "cell_type": "markdown",
   "metadata": {},
   "source": [
    "## Functions"
   ]
  },
  {
   "cell_type": "code",
   "execution_count": null,
   "metadata": {},
   "outputs": [
    {
     "name": "stdout",
     "output_type": "stream",
     "text": [
      "hello world\n",
      "16\n"
     ]
    }
   ],
   "source": [
    "def hello_world():\n",
    "    print('hello world')\n",
    "\n",
    "hello_world() # calling a function\n",
    "\n",
    "def square(x):\n",
    "    x_squared = x ** 2\n",
    "    return x_squared\n",
    "# def square(x):\n",
    "#     return x ** 2\n",
    "\n",
    "a = square(4)\n",
    "print(a)"
   ]
  },
  {
   "cell_type": "code",
   "execution_count": 37,
   "metadata": {},
   "outputs": [
    {
     "name": "stdout",
     "output_type": "stream",
     "text": [
      "24\n"
     ]
    }
   ],
   "source": [
    "# Exercise: write a python function that computes the factorial of a given number\n",
    "\n",
    "def factorial(n):\n",
    "    result = 1\n",
    "    for i in range(2, n + 1):\n",
    "        result = result * i\n",
    "    return result\n",
    "\n",
    "n = 4\n",
    "print(factorial(n))"
   ]
  }
 ],
 "metadata": {
  "kernelspec": {
   "display_name": "Python 3",
   "language": "python",
   "name": "python3"
  },
  "language_info": {
   "codemirror_mode": {
    "name": "ipython",
    "version": 3
   },
   "file_extension": ".py",
   "mimetype": "text/x-python",
   "name": "python",
   "nbconvert_exporter": "python",
   "pygments_lexer": "ipython3",
   "version": "3.11.9"
  }
 },
 "nbformat": 4,
 "nbformat_minor": 2
}
