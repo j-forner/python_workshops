{
 "cells": [
  {
   "cell_type": "markdown",
   "metadata": {},
   "source": [
    "## Python Workshop #1: The Basics"
   ]
  },
  {
   "cell_type": "markdown",
   "metadata": {},
   "source": [
    "### Why Python?\n",
    "\n",
    "- Easy to write/read python code\n",
    "- Open-source\n",
    "- Large amounts of libraries\n",
    "- Heavily used in data science teams in industry\n",
    "\n",
    "\n",
    "<!-- - Motivation\n",
    "- Benefits\n",
    "- A few drawbacks -->"
   ]
  },
  {
   "cell_type": "markdown",
   "metadata": {},
   "source": [
    "### Introductory things\n",
    "\n",
    "- History and high-level description of python\n",
    "- Hello World\n",
    "- Syntax (comments, indentation)\n",
    "- Variable conventions (names + snake_case)"
   ]
  },
  {
   "cell_type": "markdown",
   "metadata": {},
   "source": [
    "#### History\n",
    "\n",
    "- Created by Guido van Rossum and first appeared in February of 1991"
   ]
  },
  {
   "cell_type": "markdown",
   "metadata": {},
   "source": [
    "### Installation"
   ]
  },
  {
   "cell_type": "markdown",
   "metadata": {},
   "source": [
    "### Data types/structures"
   ]
  },
  {
   "cell_type": "code",
   "execution_count": 16,
   "metadata": {},
   "outputs": [
    {
     "name": "stdout",
     "output_type": "stream",
     "text": [
      "John\n",
      "My name is John\n",
      "My name is John\n",
      "My name is JohnDoe\n",
      "My name is John Doe\n",
      "\n",
      "I walked to the park with\n",
      "my dog. It was a sunny day\n",
      "and I really enjoyed it.\n",
      "\n",
      "mcdonald's\n",
      "m\n",
      "10\n"
     ]
    }
   ],
   "source": [
    "# Strings\n",
    "\n",
    "name = 'John'\n",
    "print(name)\n",
    "print('My name is', name)\n",
    "print(f'My name is {name}') # f-string (do both versions)\n",
    "\n",
    "first_name = 'John'\n",
    "last_name = 'Doe'\n",
    "print('My name is', first_name + last_name)\n",
    "print('My name is', first_name + ' ' + last_name)\n",
    "\n",
    "story = '''\n",
    "I walked to the park with\n",
    "my dog. It was a sunny day\n",
    "and I really enjoyed it.\n",
    "'''\n",
    "\n",
    "print(story)\n",
    "\n",
    "restaurant = 'mcdonald\\'s'\n",
    "\n",
    "print(restaurant)\n",
    "print(restaurant[0])\n",
    "print(len(restaurant)) # len is another built-in python function"
   ]
  },
  {
   "cell_type": "code",
   "execution_count": 23,
   "metadata": {},
   "outputs": [
    {
     "name": "stdout",
     "output_type": "stream",
     "text": [
      "<class 'int'>\n",
      "5\n",
      "1\n",
      "6\n",
      "1.5\n",
      "9\n",
      "1\n",
      "<class 'float'>\n",
      "2.7556759606310752\n",
      "1\n"
     ]
    }
   ],
   "source": [
    "# Numbers\n",
    "\n",
    "# ints\n",
    "x = 3\n",
    "y = 2\n",
    "\n",
    "print(type(x))\n",
    "print(x + y)\n",
    "print(x - y)\n",
    "print(x * y)\n",
    "print(x / y)\n",
    "print(x ** y)\n",
    "print(3 % 2)\n",
    "\n",
    "\n",
    "# floats\n",
    "x = 1.5\n",
    "y = 2.5\n",
    "print(type(x))\n",
    "print(x**y)\n",
    "print(int(1.5))\n",
    "\n",
    "\n",
    "# casting"
   ]
  },
  {
   "cell_type": "code",
   "execution_count": 52,
   "metadata": {},
   "outputs": [],
   "source": [
    "# Booleans\n",
    "\n",
    "a = True\n",
    "b = False"
   ]
  },
  {
   "cell_type": "code",
   "execution_count": 78,
   "metadata": {},
   "outputs": [
    {
     "name": "stdout",
     "output_type": "stream",
     "text": [
      "cars =  ['ford', 'volkswagen', 'tesla', 'honda', 'gmc']\n",
      "There are 5 cars in my car list.\n",
      "['tesla', 'honda']\n",
      "numbers =  [2, 1, 3, 4]\n",
      "cars =  ['ford', 'volkswagen', 'tesla', 'honda', 'gmc', 'toyota']\n",
      "ford\n",
      "10\n",
      "1\n",
      "4\n",
      "[1, 2, 3, 4]\n",
      "[2, 3, 4]\n"
     ]
    }
   ],
   "source": [
    "# lists (list items are ordered, changeable, and allow duplicates)\n",
    "\n",
    "cars = ['ford', 'volkswagen', 'tesla', 'honda', 'gmc']\n",
    "numbers = [2, 1, 3, 4]\n",
    "\n",
    "print('cars = ', cars)\n",
    "print(f'There are {len(cars)} cars in my car list.')\n",
    "print(cars[2:4])\n",
    "\n",
    "print('numbers = ', numbers)\n",
    "\n",
    "cars.append('toyota')\n",
    "\n",
    "print('cars = ', cars)\n",
    "print(cars[0])\n",
    "\n",
    "sum_of_numbers = sum(numbers)\n",
    "min_number = min(numbers)\n",
    "max_number = max(numbers)\n",
    "print(sum_of_numbers)\n",
    "print(min_number)\n",
    "print(max_number)\n",
    "\n",
    "sorted_numbers = sorted(numbers)\n",
    "print(sorted_numbers)\n",
    "\n",
    "sorted_numbers.pop(0)\n",
    "print(sorted_numbers)\n",
    "\n",
    "mixed_list = ['dog', 2, False]"
   ]
  },
  {
   "cell_type": "code",
   "execution_count": 63,
   "metadata": {},
   "outputs": [
    {
     "name": "stdout",
     "output_type": "stream",
     "text": [
      "(1, 3)\n",
      "(2, 2, 5)\n",
      "2\n",
      "3\n"
     ]
    },
    {
     "ename": "AttributeError",
     "evalue": "'tuple' object has no attribute 'append'",
     "output_type": "error",
     "traceback": [
      "\u001b[1;31m---------------------------------------------------------------------------\u001b[0m",
      "\u001b[1;31mAttributeError\u001b[0m                            Traceback (most recent call last)",
      "Cell \u001b[1;32mIn[63], line 11\u001b[0m\n\u001b[0;32m      8\u001b[0m \u001b[38;5;28mprint\u001b[39m(three_dim_coordinate[\u001b[38;5;241m0\u001b[39m])\n\u001b[0;32m      9\u001b[0m \u001b[38;5;28mprint\u001b[39m(\u001b[38;5;28mlen\u001b[39m(three_dim_coordinate))\n\u001b[1;32m---> 11\u001b[0m \u001b[43mthree_dim_coordinate\u001b[49m\u001b[38;5;241;43m.\u001b[39;49m\u001b[43mappend\u001b[49m(\u001b[38;5;241m0\u001b[39m)\n",
      "\u001b[1;31mAttributeError\u001b[0m: 'tuple' object has no attribute 'append'"
     ]
    }
   ],
   "source": [
    "# tuples (ordered and unchangeable; allows duplicate members)\n",
    "\n",
    "two_dim_coordinate = (1, 3)\n",
    "print(two_dim_coordinate)\n",
    "\n",
    "three_dim_coordinate = (2, 2, 5)\n",
    "print(three_dim_coordinate)\n",
    "print(three_dim_coordinate[0])\n",
    "print(len(three_dim_coordinate))\n",
    "\n",
    "three_dim_coordinate.append(0)"
   ]
  },
  {
   "cell_type": "code",
   "execution_count": 69,
   "metadata": {},
   "outputs": [
    {
     "name": "stdout",
     "output_type": "stream",
     "text": [
      "{16, 1, 4, 9}\n",
      "{16, 1, 4, 9}\n"
     ]
    }
   ],
   "source": [
    "# sets: unordered, unchangeable, and unindexed; does not allow duplicate members \n",
    "\n",
    "squares = {1, 4, 9, 16}\n",
    "print(squares)\n",
    "\n",
    "squares = {1, 4, 4, 9, 16}\n",
    "print(squares)"
   ]
  },
  {
   "cell_type": "code",
   "execution_count": 76,
   "metadata": {},
   "outputs": [
    {
     "name": "stdout",
     "output_type": "stream",
     "text": [
      "{'John': 30, 'Maria': 40, 'Jose': 35, 'Sandra': 25}\n",
      "dict_keys(['John', 'Maria', 'Jose', 'Sandra'])\n",
      "dict_values([30, 40, 35, 25])\n",
      "30\n",
      "{'John': 30, 'Maria': 40, 'Jose': 35, 'Sandra': 25, 'Donovan': 55}\n"
     ]
    }
   ],
   "source": [
    "# dictionary: ordered and changeable; no duplicate members; unique keys (think of a real dictionary)\n",
    "\n",
    "age = {'John' : 30, 'Maria' : 40, 'Jose' : 35, 'Sandra' : 25}\n",
    "print(age)\n",
    "print(age.keys())\n",
    "print(age.values())\n",
    "print(age['John'])\n",
    "\n",
    "age['Donovan'] = 55\n",
    "print(age)\n",
    "\n",
    "fibonacci_numbers = {1 : 1, 2 : 1, 3 : 2, 4 : 3, 5 : 5, 6 : 8}"
   ]
  },
  {
   "cell_type": "code",
   "execution_count": 77,
   "metadata": {},
   "outputs": [],
   "source": [
    "# What type of object am I looking at?\n",
    "# 'type' and other built-in python commands\n",
    "# python indexing starts at 0"
   ]
  },
  {
   "cell_type": "markdown",
   "metadata": {},
   "source": [
    "### If-else, loops, and list/dictionary comprehension"
   ]
  },
  {
   "cell_type": "code",
   "execution_count": 89,
   "metadata": {},
   "outputs": [
    {
     "name": "stdout",
     "output_type": "stream",
     "text": [
      "a is greater than b\n",
      "a is greater than or equal to b\n",
      "taco bell is not one of my favorite restaurants\n",
      "taco bell is not a bad restaurant\n",
      "They can ride the rollercoaster\n"
     ]
    }
   ],
   "source": [
    "a = 10\n",
    "b = 7\n",
    "if a < b:\n",
    "    print('a is less than b')\n",
    "elif a > b:\n",
    "    print('a is greater than b')\n",
    "else:\n",
    "    print('a is equal to b')\n",
    "\n",
    "a = 10\n",
    "b = 7\n",
    "if a <  b:\n",
    "    print('a is less than b')\n",
    "else:\n",
    "    print('a is greater than or equal to b')\n",
    "\n",
    "favorite_restaurants = ['canes', 'panda express', 'chick fil a']\n",
    "restaurant_1 = 'taco bell'\n",
    "if restaurant_1 in favorite_restaurants:\n",
    "    print(f'{restaurant_1} is one of my favorite restaurants')\n",
    "else:\n",
    "    print(f'{restaurant_1} is not one of my favorite restaurants')\n",
    "\n",
    "bad_restaurants = ['mcdonalds', 'sonic']\n",
    "if restaurant_1 not in bad_restaurants:\n",
    "    print(f'{restaurant_1} is not a bad restaurant')\n",
    "else:\n",
    "    print(f'{restaurant_1} is a bad restaurant')\n",
    "\n",
    "person = {'age' : 8, 'height' : 50}\n",
    "if person['age'] >= 7 and person['height'] >= 48:\n",
    "    print('They can ride the rollercoaster')\n",
    "else:\n",
    "    print('They cannot ride the rollercoaster')"
   ]
  },
  {
   "cell_type": "code",
   "execution_count": null,
   "metadata": {},
   "outputs": [],
   "source": [
    "# FizzBuzz exercise (if this does not contain 'or', then do something in addition that does contain an 'or')"
   ]
  },
  {
   "cell_type": "code",
   "execution_count": 3,
   "metadata": {},
   "outputs": [
    {
     "name": "stdout",
     "output_type": "stream",
     "text": [
      "x =  0\n",
      "x =  1\n",
      "x =  2\n",
      "x =  3\n",
      "x =  4\n",
      "x =  5\n",
      "out of the loop\n",
      "x =  4\n",
      "x =  5\n",
      "encountered a multiple of 3, breaking out of the loop\n",
      "out of the loop\n"
     ]
    }
   ],
   "source": [
    "# While loops\n",
    "\n",
    "x = 0\n",
    "\n",
    "while x <= 5:\n",
    "    print('x = ', x)\n",
    "    x += 1\n",
    "\n",
    "print('out of the loop')\n",
    "\n",
    "x = 4\n",
    "while x <= 10:\n",
    "    if x % 3 == 0:\n",
    "        print('encountered a multiple of 3, breaking out of the loop')\n",
    "        break\n",
    "    print('x = ', x)\n",
    "    x += 1\n",
    "print('out of the loop')\n",
    "\n",
    "\n",
    "# Work on the below\n",
    "# x = 4\n",
    "# while x <= 10:\n",
    "#     if x % 3 == 0:\n",
    "#         print('encountered a multiple of 3, continuing to the next iteration')\n",
    "#         continue\n",
    "#     print('x = ', x)\n",
    "#     x += 1\n",
    "# print('out of the loop')\n"
   ]
  },
  {
   "cell_type": "code",
   "execution_count": null,
   "metadata": {},
   "outputs": [],
   "source": [
    "# For loops"
   ]
  },
  {
   "cell_type": "markdown",
   "metadata": {},
   "source": [
    "### Functions"
   ]
  }
 ],
 "metadata": {
  "kernelspec": {
   "display_name": "Python 3",
   "language": "python",
   "name": "python3"
  },
  "language_info": {
   "codemirror_mode": {
    "name": "ipython",
    "version": 3
   },
   "file_extension": ".py",
   "mimetype": "text/x-python",
   "name": "python",
   "nbconvert_exporter": "python",
   "pygments_lexer": "ipython3",
   "version": "3.11.9"
  }
 },
 "nbformat": 4,
 "nbformat_minor": 2
}
